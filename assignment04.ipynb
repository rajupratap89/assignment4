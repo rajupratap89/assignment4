{
 "cells": [
  {
   "cell_type": "code",
   "execution_count": null,
   "id": "fa11fd0d-8073-424c-9941-36b92b8f1fcd",
   "metadata": {},
   "outputs": [],
   "source": [
    "Q1. What is Abstraction in OOps? Explain with an example."
   ]
  },
  {
   "cell_type": "code",
   "execution_count": 2,
   "id": "2501648b-6f2d-48c5-ba7b-373d918039e2",
   "metadata": {},
   "outputs": [],
   "source": [
    "import abc \n",
    "class victors:\n",
    "    \n",
    "    @abc.abstractmethod\n",
    "    def student_details(self):\n",
    "        pass\n",
    "     \n",
    "    \n",
    "    @abc.abstractmethod\n",
    "    def test_series(self):\n",
    "        pass"
   ]
  },
  {
   "cell_type": "code",
   "execution_count": 11,
   "id": "0eab64fb-fe43-4a13-ba1b-31f3ab9401b2",
   "metadata": {},
   "outputs": [],
   "source": [
    "class st_teacher(victors):\n",
    "    \n",
    "    def student_detail(self):\n",
    "        return \"administration taken details from students\"\n",
    "    \n",
    "    \n",
    "    def student_test(self):\n",
    "        return \"taken test fee from all of students\""
   ]
  },
  {
   "cell_type": "code",
   "execution_count": 12,
   "id": "239c0dac-384e-487f-86ab-f88826c84d10",
   "metadata": {},
   "outputs": [
    {
     "data": {
      "text/plain": [
       "'administration taken details from students'"
      ]
     },
     "execution_count": 12,
     "metadata": {},
     "output_type": "execute_result"
    }
   ],
   "source": [
    "cs=st_teacher()\n",
    "cs.student_detail()"
   ]
  },
  {
   "cell_type": "code",
   "execution_count": 13,
   "id": "e1e68515-5e8c-4ae6-bf76-256c52ad9c17",
   "metadata": {},
   "outputs": [
    {
     "data": {
      "text/plain": [
       "'taken test fee from all of students'"
      ]
     },
     "execution_count": 13,
     "metadata": {},
     "output_type": "execute_result"
    }
   ],
   "source": [
    "cs=st_teacher()\n",
    "cs.student_test()"
   ]
  },
  {
   "cell_type": "code",
   "execution_count": null,
   "id": "92b8b3f4-f553-49aa-b6da-f7efd1f5754d",
   "metadata": {},
   "outputs": [],
   "source": [
    "Q2. Differentiate between Abstraction and Encapsulation. Explain with an example."
   ]
  },
  {
   "cell_type": "code",
   "execution_count": 14,
   "id": "3fdecfd0-f1fa-4aaa-9690-8675a52f8d55",
   "metadata": {},
   "outputs": [],
   "source": [
    "import abc \n",
    "class victors:\n",
    "    \n",
    "    @abc.abstractmethod\n",
    "    def student_details(self):\n",
    "        pass\n",
    "     \n",
    "    \n",
    "    @abc.abstractmethod\n",
    "    def test_series(self):\n",
    "        pass"
   ]
  },
  {
   "cell_type": "code",
   "execution_count": 15,
   "id": "c6c59f63-79de-4efe-96d8-3ba3391ad951",
   "metadata": {},
   "outputs": [],
   "source": [
    "class st_teacher(victors):\n",
    "    \n",
    "    def student_detail(self):\n",
    "        return \"administration taken details from students\"\n",
    "    \n",
    "    \n",
    "    def student_test(self):\n",
    "        return \"taken test fee from all of students\""
   ]
  },
  {
   "cell_type": "code",
   "execution_count": 16,
   "id": "59d273b9-a64c-4877-9bdd-1c1ebe41c6f7",
   "metadata": {},
   "outputs": [
    {
     "data": {
      "text/plain": [
       "'administration taken details from students'"
      ]
     },
     "execution_count": 16,
     "metadata": {},
     "output_type": "execute_result"
    }
   ],
   "source": [
    "cs=st_teacher()\n",
    "cs.student_detail()"
   ]
  },
  {
   "cell_type": "code",
   "execution_count": 22,
   "id": "147f8312-3355-4dd6-bcef-4e9122ef25a1",
   "metadata": {},
   "outputs": [],
   "source": [
    "class test():\n",
    "    \n",
    "    def _init_(self,a,b):\n",
    "        self.a =a\n",
    "        self.b =b\n",
    "    "
   ]
  },
  {
   "cell_type": "code",
   "execution_count": 23,
   "id": "4476960c-505d-4ee5-b90b-c45f3e591e84",
   "metadata": {},
   "outputs": [
    {
     "ename": "TypeError",
     "evalue": "test() takes no arguments",
     "output_type": "error",
     "traceback": [
      "\u001b[0;31m---------------------------------------------------------------------------\u001b[0m",
      "\u001b[0;31mTypeError\u001b[0m                                 Traceback (most recent call last)",
      "Cell \u001b[0;32mIn[23], line 1\u001b[0m\n\u001b[0;32m----> 1\u001b[0m t\u001b[38;5;241m=\u001b[39m\u001b[43mtest\u001b[49m\u001b[43m(\u001b[49m\u001b[38;5;241;43m45\u001b[39;49m\u001b[43m,\u001b[49m\u001b[38;5;241;43m23\u001b[39;49m\u001b[43m)\u001b[49m\n",
      "\u001b[0;31mTypeError\u001b[0m: test() takes no arguments"
     ]
    }
   ],
   "source": [
    "t=test(45,23)"
   ]
  },
  {
   "cell_type": "code",
   "execution_count": 24,
   "id": "5f5214c2-98c7-4971-9c53-5eec8976c24f",
   "metadata": {},
   "outputs": [
    {
     "ename": "NameError",
     "evalue": "name 't' is not defined",
     "output_type": "error",
     "traceback": [
      "\u001b[0;31m---------------------------------------------------------------------------\u001b[0m",
      "\u001b[0;31mNameError\u001b[0m                                 Traceback (most recent call last)",
      "Cell \u001b[0;32mIn[24], line 1\u001b[0m\n\u001b[0;32m----> 1\u001b[0m \u001b[43mt\u001b[49m\u001b[38;5;241m.\u001b[39ma\u001b[38;5;241m=\u001b[39m\u001b[38;5;241m12345\u001b[39m\n",
      "\u001b[0;31mNameError\u001b[0m: name 't' is not defined"
     ]
    }
   ],
   "source": [
    "t.a=12345"
   ]
  },
  {
   "cell_type": "code",
   "execution_count": null,
   "id": "1edc0040-5ca2-4e42-83d8-cc5370784087",
   "metadata": {},
   "outputs": [],
   "source": [
    "Q3. What is abc module in python? Why is it used?"
   ]
  },
  {
   "cell_type": "code",
   "execution_count": null,
   "id": "9c984a33-8fc9-46e8-8924-35b8b51f3d1d",
   "metadata": {},
   "outputs": [],
   "source": [
    "abc module in python used for abstracting \n",
    "\n",
    "import abc \n",
    "class raju:\n",
    "    \n",
    "    @abc.abstractmethod\n",
    "    def student_details(self):\n",
    "        pass"
   ]
  },
  {
   "cell_type": "code",
   "execution_count": null,
   "id": "0692f257-ac05-4abf-ac71-50b2b744f3db",
   "metadata": {},
   "outputs": [],
   "source": [
    "Q4. How can we achieve data abstraction?"
   ]
  },
  {
   "cell_type": "code",
   "execution_count": 1,
   "id": "64a43669-9293-4f82-b4b6-02563219a9a7",
   "metadata": {},
   "outputs": [],
   "source": [
    "import abc \n",
    "class travel:\n",
    "    \n",
    "    @abc.abstractmethod \n",
    "    def travel_detail(self):\n",
    "        pass \n",
    "    \n",
    "    @abc.abstractmethod\n",
    "    def travel_safety(self):\n",
    "        pass"
   ]
  },
  {
   "cell_type": "code",
   "execution_count": 2,
   "id": "48695a1d-4e7c-4a90-a265-ee98b58cb9e7",
   "metadata": {},
   "outputs": [],
   "source": [
    "class travelagency(travel):\n",
    "    \n",
    "    def travel_detail(self):\n",
    "        return \"taken all details to travel agency\"\n",
    "    \n",
    "    def travel_safety(self):\n",
    "        return \"All safety carefully from travelagency but self care is good\""
   ]
  },
  {
   "cell_type": "code",
   "execution_count": 4,
   "id": "8f222a3a-7248-4b5f-80b0-39121824bf60",
   "metadata": {},
   "outputs": [
    {
     "data": {
      "text/plain": [
       "'taken all details to travel agency'"
      ]
     },
     "execution_count": 4,
     "metadata": {},
     "output_type": "execute_result"
    }
   ],
   "source": [
    "tl=travelagency()\n",
    "tl.travel_detail()"
   ]
  },
  {
   "cell_type": "code",
   "execution_count": null,
   "id": "92a89138-5f72-4406-b403-bb212bf2f5bf",
   "metadata": {},
   "outputs": [],
   "source": [
    "Q5. Can we create an instance of an abstract class? Explain your answer."
   ]
  },
  {
   "cell_type": "code",
   "execution_count": 5,
   "id": "b36445a3-224a-4093-9268-aafb661612fd",
   "metadata": {},
   "outputs": [],
   "source": [
    "import abc \n",
    "class product:\n",
    "    \n",
    "    @abc.abstractmethod\n",
    "    def product_detail(self):\n",
    "        pass\n",
    "    \n",
    "    @abc.abstractmethod\n",
    "    def product_delivered_timing(self):\n",
    "        pass"
   ]
  },
  {
   "cell_type": "code",
   "execution_count": null,
   "id": "5d1a181b-910d-4980-9d06-67a964b0a731",
   "metadata": {},
   "outputs": [],
   "source": [
    "ab=product()\n"
   ]
  }
 ],
 "metadata": {
  "kernelspec": {
   "display_name": "Python 3 (ipykernel)",
   "language": "python",
   "name": "python3"
  },
  "language_info": {
   "codemirror_mode": {
    "name": "ipython",
    "version": 3
   },
   "file_extension": ".py",
   "mimetype": "text/x-python",
   "name": "python",
   "nbconvert_exporter": "python",
   "pygments_lexer": "ipython3",
   "version": "3.10.8"
  }
 },
 "nbformat": 4,
 "nbformat_minor": 5
}
